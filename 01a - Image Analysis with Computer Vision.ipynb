{
 "cells": [
  {
   "cell_type": "markdown",
   "source": [
    "# Image Analysis with the Computer Vision Service\n",
    "\n",
    "![A robot holding a picture](./images/computer_vision.jpg)\n",
    "\n",
    "*Computer Vision* is a branch of artificial intelligence (AI) that explores the development of AI systems that can \"see\" the world, either in real-time through a camera or by analyzing images and video. This is made possible by the fact that digital images are essentially just arrays of numeric pixel values, and we can use those pixel values as *features* to train machine learning models that can classify images, detect discrete objects in an image, and even generate text-based summaries of photographs.\n",
    "\n",
    "## Use the Computer Vision Cognitive Service\n",
    "\n",
    "Microsoft Azure includes a number of *cognitive services* that encapsulate common AI functions, including some that can help you build computer vision solutions.\n",
    "\n",
    "The *Computer Vision* cognitive service provides an obvious starting point for our exploration of computer vision in Azure. It uses pre-trained machine learning models to analyze images and extract information about them.\n",
    "\n",
    "For example, suppose Northwind Traders has decided to implement a \"smart store\", in which AI services monitor the store to identify customers requiring assistance, and direct employees to help them. By using the Computer Vision service, images taken by cameras throughout the store can be analyzed to provide meaningful descriptions of what they depict.\n",
    "\n",
    "### Create a Cognitive Services Resource\n",
    "\n",
    "Let's start by creating a **Cognitive Services** resource in your Azure subscription:\n",
    "\n",
    "1. In another browser tab, open the Azure portal at https://portal.azure.com, signing in with your Microsoft account.\n",
    "2. Click the **&#65291;Create a resource** button, search for *Cognitive Services*, and create a **Cognitive Services** resource with the following settings:\n",
    "    - **Name**: *Enter a unique name*.\n",
    "    - **Subscription**: *Your Azure subscription*.\n",
    "    - **Location**: *Choose any available region*:\n",
    "    - **Pricing tier**: S0\n",
    "    - **Resource group**: *Create a resource group with a unique name*.\n",
    "3. Wait for deployment to complete. Then go to your cognitive services resource, and on the **Overview** page, click the link to manage the keys for the service. You will need the endpoint and keys to connect to your cognitive services resource from client applications.\n",
    "\n",
    "### Get the Key and Endpoint for your Cognitive Services resource\n",
    "\n",
    "To use your cognitive services resource, client applications need its endpoint and authentication key:\n",
    "\n",
    "1. In the Azure portal, on the **Keys and Endpoint** page for your cognitive service resource, copy the **Key1** for your resource and paste it in the code below, replacing **YOUR_COG_KEY**.\n",
    "2. Copy the **endpoint** for your resource and and paste it in the code below, replacing **YOUR_COG_ENDPOINT**.\n",
    "3. Run the code below by selecting the cell and then clicking the **Run cell** (&#9655) button to the left of the cell."
   ],
   "metadata": {}
  },
  {
   "cell_type": "code",
   "execution_count": 6,
   "source": [
    "cog_key = '957f7bcda9d644fdb6ac6ab27365fcbf'\r\n",
    "cog_endpoint = 'https://congnitiveasservice.cognitiveservices.azure.com/'\r\n",
    "\r\n",
    "print('Ready to use cognitive services at {} using key {}'.format(cog_endpoint, cog_key))"
   ],
   "outputs": [
    {
     "output_type": "stream",
     "name": "stdout",
     "text": [
      "Ready to use cognitive services at https://congnitiveasservice.cognitiveservices.azure.com/ using key 957f7bcda9d644fdb6ac6ab27365fcbf\n"
     ]
    }
   ],
   "metadata": {
    "gather": {
     "logged": 1599691487445
    }
   }
  },
  {
   "cell_type": "markdown",
   "source": [
    "Now that you've set up the key and endpoint, you can use the computer vision service to analyze an image.\n",
    "\n",
    "To do this from Python, you'll need to run the following cell to install the Azure Cognitive Services Computer Vision package. "
   ],
   "metadata": {}
  },
  {
   "cell_type": "code",
   "execution_count": 7,
   "source": [
    "! pip install azure-cognitiveservices-vision-computervision "
   ],
   "outputs": [
    {
     "output_type": "stream",
     "name": "stdout",
     "text": [
      "Requirement already satisfied: azure-cognitiveservices-vision-computervision in c:\\users\\saich\\anaconda3\\lib\\site-packages (0.9.0)\n",
      "Requirement already satisfied: msrest>=0.5.0 in c:\\users\\saich\\anaconda3\\lib\\site-packages (from azure-cognitiveservices-vision-computervision) (0.6.21)\n",
      "Requirement already satisfied: azure-common~=1.1 in c:\\users\\saich\\anaconda3\\lib\\site-packages (from azure-cognitiveservices-vision-computervision) (1.1.27)\n",
      "Requirement already satisfied: requests-oauthlib>=0.5.0 in c:\\users\\saich\\anaconda3\\lib\\site-packages (from msrest>=0.5.0->azure-cognitiveservices-vision-computervision) (1.3.0)\n",
      "Requirement already satisfied: certifi>=2017.4.17 in c:\\users\\saich\\anaconda3\\lib\\site-packages (from msrest>=0.5.0->azure-cognitiveservices-vision-computervision) (2020.12.5)\n",
      "Requirement already satisfied: isodate>=0.6.0 in c:\\users\\saich\\anaconda3\\lib\\site-packages (from msrest>=0.5.0->azure-cognitiveservices-vision-computervision) (0.6.0)\n",
      "Requirement already satisfied: requests~=2.16 in c:\\users\\saich\\anaconda3\\lib\\site-packages (from msrest>=0.5.0->azure-cognitiveservices-vision-computervision) (2.25.1)\n",
      "Requirement already satisfied: six in c:\\users\\saich\\anaconda3\\lib\\site-packages (from isodate>=0.6.0->msrest>=0.5.0->azure-cognitiveservices-vision-computervision) (1.15.0)\n",
      "Requirement already satisfied: chardet<5,>=3.0.2 in c:\\users\\saich\\anaconda3\\lib\\site-packages (from requests~=2.16->msrest>=0.5.0->azure-cognitiveservices-vision-computervision) (4.0.0)\n",
      "Requirement already satisfied: idna<3,>=2.5 in c:\\users\\saich\\anaconda3\\lib\\site-packages (from requests~=2.16->msrest>=0.5.0->azure-cognitiveservices-vision-computervision) (2.10)\n",
      "Requirement already satisfied: urllib3<1.27,>=1.21.1 in c:\\users\\saich\\anaconda3\\lib\\site-packages (from requests~=2.16->msrest>=0.5.0->azure-cognitiveservices-vision-computervision) (1.26.4)\n",
      "Requirement already satisfied: oauthlib>=3.0.0 in c:\\users\\saich\\anaconda3\\lib\\site-packages (from requests-oauthlib>=0.5.0->msrest>=0.5.0->azure-cognitiveservices-vision-computervision) (3.1.1)\n"
     ]
    }
   ],
   "metadata": {
    "tags": []
   }
  },
  {
   "cell_type": "markdown",
   "source": [
    "Now you're ready to go!\n",
    "\n",
    "Run the following cell to get a description for an image in the */data/vision/store_cam1.jpg* file."
   ],
   "metadata": {}
  },
  {
   "cell_type": "code",
   "execution_count": 8,
   "source": [
    "from azure.cognitiveservices.vision.computervision import ComputerVisionClient\r\n",
    "from msrest.authentication import CognitiveServicesCredentials\r\n",
    "from python_code import vision\r\n",
    "import os\r\n",
    "%matplotlib inline\r\n",
    "\r\n",
    "# Get the path to an image file\r\n",
    "image_path = os.path.join('data', 'vision', 'store_cam1.jpg')\r\n",
    "\r\n",
    "# Get a client for the computer vision service\r\n",
    "computervision_client = ComputerVisionClient(cog_endpoint, CognitiveServicesCredentials(cog_key))\r\n",
    "\r\n",
    "# Get a description from the computer vision service\r\n",
    "image_stream = open(image_path, \"rb\")\r\n",
    "description = computervision_client.describe_image_in_stream(image_stream)\r\n",
    "\r\n",
    "# Display image and caption (code in helper_scripts/vision.py)\r\n",
    "vision.show_image_caption(image_path, description)\r\n"
   ],
   "outputs": [
    {
     "output_type": "error",
     "ename": "ModuleNotFoundError",
     "evalue": "No module named 'python_code'",
     "traceback": [
      "\u001b[1;31m---------------------------------------------------------------------------\u001b[0m",
      "\u001b[1;31mModuleNotFoundError\u001b[0m                       Traceback (most recent call last)",
      "\u001b[1;32m<ipython-input-8-b19f29dc0571>\u001b[0m in \u001b[0;36m<module>\u001b[1;34m\u001b[0m\n\u001b[0;32m      1\u001b[0m \u001b[1;32mfrom\u001b[0m \u001b[0mazure\u001b[0m\u001b[1;33m.\u001b[0m\u001b[0mcognitiveservices\u001b[0m\u001b[1;33m.\u001b[0m\u001b[0mvision\u001b[0m\u001b[1;33m.\u001b[0m\u001b[0mcomputervision\u001b[0m \u001b[1;32mimport\u001b[0m \u001b[0mComputerVisionClient\u001b[0m\u001b[1;33m\u001b[0m\u001b[1;33m\u001b[0m\u001b[0m\n\u001b[0;32m      2\u001b[0m \u001b[1;32mfrom\u001b[0m \u001b[0mmsrest\u001b[0m\u001b[1;33m.\u001b[0m\u001b[0mauthentication\u001b[0m \u001b[1;32mimport\u001b[0m \u001b[0mCognitiveServicesCredentials\u001b[0m\u001b[1;33m\u001b[0m\u001b[1;33m\u001b[0m\u001b[0m\n\u001b[1;32m----> 3\u001b[1;33m \u001b[1;32mfrom\u001b[0m \u001b[0mpython_code\u001b[0m \u001b[1;32mimport\u001b[0m \u001b[0mvision\u001b[0m\u001b[1;33m\u001b[0m\u001b[1;33m\u001b[0m\u001b[0m\n\u001b[0m\u001b[0;32m      4\u001b[0m \u001b[1;32mimport\u001b[0m \u001b[0mos\u001b[0m\u001b[1;33m\u001b[0m\u001b[1;33m\u001b[0m\u001b[0m\n\u001b[0;32m      5\u001b[0m \u001b[0mget_ipython\u001b[0m\u001b[1;33m(\u001b[0m\u001b[1;33m)\u001b[0m\u001b[1;33m.\u001b[0m\u001b[0mrun_line_magic\u001b[0m\u001b[1;33m(\u001b[0m\u001b[1;34m'matplotlib'\u001b[0m\u001b[1;33m,\u001b[0m \u001b[1;34m'inline'\u001b[0m\u001b[1;33m)\u001b[0m\u001b[1;33m\u001b[0m\u001b[1;33m\u001b[0m\u001b[0m\n",
      "\u001b[1;31mModuleNotFoundError\u001b[0m: No module named 'python_code'"
     ]
    }
   ],
   "metadata": {
    "gather": {
     "logged": 1599691518279
    }
   }
  },
  {
   "cell_type": "markdown",
   "source": [
    "That seems reasonably accurate.\n",
    "\n",
    "Let's try another image."
   ],
   "metadata": {}
  },
  {
   "cell_type": "code",
   "execution_count": null,
   "source": [
    "# Get the path to an image file\r\n",
    "image_path = os.path.join('data', 'vision', 'store_cam2.jpg')\r\n",
    "\r\n",
    "# Get a description from the computer vision service\r\n",
    "image_stream = open(image_path, \"rb\")\r\n",
    "description = computervision_client.describe_image_in_stream(image_stream)\r\n",
    "\r\n",
    "# Display image and caption (code in helper_scripts/vision.py)\r\n",
    "vision.show_image_caption(image_path, description)"
   ],
   "outputs": [],
   "metadata": {
    "gather": {
     "logged": 1599691524330
    }
   }
  },
  {
   "cell_type": "markdown",
   "source": [
    "Again, the suggested caption seems to be pretty accurate.\n",
    "\n",
    "## Analyze image features\n",
    "\n",
    "So far, you've used the Computer Vision service to generate a descriptive caption for a couple of images; but there's much more you can do. The Computer Vision service provides analysis capabilities that can extract detailed information like:\n",
    "\n",
    "- The locations of common types of object detected in the image.\n",
    "- Location and approximate age of human faces in the image.\n",
    "- Whether the image contains any 'adult', 'racy', or 'gory' content.\n",
    "- Relevant tags that could be associated with the image in a database to make it easy to find.\n",
    "\n",
    "Run the following code to analyze an image of a shopper."
   ],
   "metadata": {}
  },
  {
   "cell_type": "code",
   "execution_count": null,
   "source": [
    "# Get the path to an image file\r\n",
    "image_path = os.path.join('data', 'vision', 'store_cam1.jpg')\r\n",
    "\r\n",
    "# Specify the features we want to analyze\r\n",
    "features = ['Description', 'Tags', 'Adult', 'Objects', 'Faces']\r\n",
    "\r\n",
    "# Get an analysis from the computer vision service\r\n",
    "image_stream = open(image_path, \"rb\")\r\n",
    "analysis = computervision_client.analyze_image_in_stream(image_stream, visual_features=features)\r\n",
    "\r\n",
    "# Show the results of analysis (code in helper_scripts/vision.py)\r\n",
    "vision.show_image_analysis(image_path, analysis)"
   ],
   "outputs": [],
   "metadata": {
    "gather": {
     "logged": 1599691530747
    }
   }
  },
  {
   "cell_type": "markdown",
   "source": [
    "## Learn More\n",
    "\n",
    "In addition to the capabilities you've explored in this notebook, the Computer Vision cognitive service includes the ability to:\n",
    "\n",
    "- Identify celebrities in images.\n",
    "- Detect brand logos in an image.\n",
    "- Perform optical character recognition (OCR) to read text in an image.\n",
    "\n",
    "To learn more about the Computer Vision cognitive service, see the [Computer Vision documentation](https://docs.microsoft.com/azure/cognitive-services/computer-vision/)\n"
   ],
   "metadata": {}
  }
 ],
 "metadata": {
  "kernel_info": {
   "name": "python3-azureml"
  },
  "kernelspec": {
   "name": "python3",
   "display_name": "Python 3.8.8 64-bit ('base': conda)"
  },
  "language_info": {
   "codemirror_mode": {
    "name": "ipython",
    "version": 3
   },
   "file_extension": ".py",
   "mimetype": "text/x-python",
   "name": "python",
   "nbconvert_exporter": "python",
   "pygments_lexer": "ipython3",
   "version": "3.8.8"
  },
  "nteract": {
   "version": "nteract-front-end@1.0.0"
  },
  "interpreter": {
   "hash": "dacf8dd50692f199a08f07bd5d8905c3293ccd6ccf9fabe7e013bcfe2edd08cd"
  }
 },
 "nbformat": 4,
 "nbformat_minor": 2
}